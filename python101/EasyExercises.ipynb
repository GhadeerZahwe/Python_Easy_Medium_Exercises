{
 "cells": [
  {
   "cell_type": "markdown",
   "id": "38d5a38b",
   "metadata": {},
   "source": [
    "Exercise 1\n",
    "Write a python program that:\n",
    "\n",
    "1.Asks the user about their name\n",
    "2.Save it in a variable called \"name\"\n",
    "3.Asks the user about their age\n",
    "4.Save it in a variable called \"age\"\n",
    "5.Print a string stating \"The user -name- is -age- years old\""
   ]
  },
  {
   "cell_type": "code",
   "execution_count": 3,
   "id": "d6a1ebdb",
   "metadata": {},
   "outputs": [
    {
     "name": "stdout",
     "output_type": "stream",
     "text": [
      "Hello Ghadeer! You are 24 years old!\n"
     ]
    }
   ],
   "source": [
    "name=input(\"Enter your name!\")\n",
    "age=input(\"Enter your age\")\n",
    "print(\"Hello \"+name+\"! You are \"+age+\" years old!\")"
   ]
  },
  {
   "cell_type": "markdown",
   "id": "50a829e2",
   "metadata": {},
   "source": [
    "Exercise 2\n",
    "Ask the user for a number. \n",
    "Depending on whether the number is even or odd, print out an appropriate message to the user. \n",
    "Hint: how does an even / odd number react differently when divided by 2?\n"
   ]
  },
  {
   "cell_type": "code",
   "execution_count": null,
   "id": "1e0f5a50",
   "metadata": {},
   "outputs": [
    {
     "name": "stdout",
     "output_type": "stream",
     "text": [
      "The number is odd.\n"
     ]
    }
   ],
   "source": [
    "number=int(input(\"Enter a number: \"))\n",
    "if number % 2 == 0:\n",
    "    print(\"The number is even.\")\n",
    "else:\n",
    "    print(\"The number is odd.\")\n"
   ]
  },
  {
   "cell_type": "markdown",
   "id": "33e90046",
   "metadata": {},
   "source": [
    "\n",
    "Extras:\n",
    "If the number is a multiple of 4, print out a different message. \n",
    "Ask the user for two numbers: one number to check (call it num) and one number to divide by (check). \n",
    "If check divides evenly into num, tell that to the user. If not, print a different appropriate message."
   ]
  },
  {
   "cell_type": "code",
   "execution_count": 9,
   "id": "a838c816",
   "metadata": {},
   "outputs": [
    {
     "name": "stdout",
     "output_type": "stream",
     "text": [
      "The number is a multiple of 4.\n",
      "4 divides evenly into 0.\n"
     ]
    }
   ],
   "source": [
    "num=int(input(\"Enter a number to check:\"))\n",
    "if num % 4 == 0:\n",
    "    print(\"The number is a multiple of 4.\")\n",
    "check=int(input(\"Enter a number to divide by: \"))\n",
    "if num % check == 0:\n",
    "    print(f\"{check} divides evenly into {num}.\")"
   ]
  },
  {
   "cell_type": "markdown",
   "id": "267888f9",
   "metadata": {},
   "source": [
    "Exercise 3\n",
    "Write a program that takes a list of numbers (for example, a = [5, 10, 15, 20, 25]) and makes a new list of only the first and last elements of the given list. For practice, write this code inside a function."
   ]
  },
  {
   "cell_type": "code",
   "execution_count": null,
   "id": "f0c5bb88",
   "metadata": {},
   "outputs": [],
   "source": [
    "list=[1,2,3,4,5]\n",
    "\n",
    "def new_list():\n",
    " newlist=[list[0],list[-1]]\n",
    " return newlist"
   ]
  }
 ],
 "metadata": {
  "kernelspec": {
   "display_name": "Python 3",
   "language": "python",
   "name": "python3"
  },
  "language_info": {
   "codemirror_mode": {
    "name": "ipython",
    "version": 3
   },
   "file_extension": ".py",
   "mimetype": "text/x-python",
   "name": "python",
   "nbconvert_exporter": "python",
   "pygments_lexer": "ipython3",
   "version": "3.12.3"
  }
 },
 "nbformat": 4,
 "nbformat_minor": 5
}
