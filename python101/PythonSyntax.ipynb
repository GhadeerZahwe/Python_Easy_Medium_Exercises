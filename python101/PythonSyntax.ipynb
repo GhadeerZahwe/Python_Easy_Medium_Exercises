{
 "cells": [
  {
   "cell_type": "code",
   "execution_count": null,
   "id": "941c2b4a",
   "metadata": {},
   "outputs": [],
   "source": [
    "# Python Basic Data Types\n",
    "x=10\n",
    "y=3.14\n",
    "name=\"Alice\"\n",
    "is_active=True\n",
    "z=None\n"
   ]
  },
  {
   "cell_type": "code",
   "execution_count": 2,
   "id": "21b22a1e",
   "metadata": {},
   "outputs": [],
   "source": [
    "# Common Collections (Built-In Data Structure)\n",
    "List=[1,2,3]\n",
    "Tuple=(1,2,3)\n",
    "Set={1,2,3}\n",
    "Dictionary={\"key1\":\"value1\",\"key2\":\"value2\"}"
   ]
  },
  {
   "cell_type": "code",
   "execution_count": 3,
   "id": "73dbdadc",
   "metadata": {},
   "outputs": [
    {
     "name": "stdout",
     "output_type": "stream",
     "text": [
      "8\n",
      "2\n",
      "15\n",
      "1.6666666666666667\n",
      "1\n",
      "2\n",
      "125\n"
     ]
    }
   ],
   "source": [
    "# Python Mathematical Operations\n",
    "print(5+3)        # Addition\n",
    "print(5-3)        # Subtraction\n",
    "print(5*3)        # Multiplication\n",
    "print(5/3)        # Division\n",
    "print(5//3)       # Floor Division\n",
    "print(5%3)       # Modulus\n",
    "print(5**3)      # Exponentiation\n"
   ]
  },
  {
   "cell_type": "code",
   "execution_count": 4,
   "id": "78cda0da",
   "metadata": {},
   "outputs": [
    {
     "name": "stdout",
     "output_type": "stream",
     "text": [
      "False\n",
      "True\n",
      "False\n"
     ]
    }
   ],
   "source": [
    "#Boolean Operations\n",
    "t=True\n",
    "f=False\n",
    "print(t and f)  # Logical AND\n",
    "print(t or f)   # Logical OR\n",
    "print(not t)    # Logical NOT"
   ]
  },
  {
   "cell_type": "code",
   "execution_count": 6,
   "id": "16d0985a",
   "metadata": {},
   "outputs": [
    {
     "name": "stdout",
     "output_type": "stream",
     "text": [
      "5\n",
      "<class 'int'>\n",
      "3\n",
      "10.0\n",
      "100\n",
      "[1, 2, 3]\n",
      "6\n",
      "3\n",
      "1\n",
      "[1, 2, 3]\n",
      "<list_reverseiterator object at 0x00000200AB9A45B0>\n",
      "4\n",
      "10\n"
     ]
    }
   ],
   "source": [
    "#Common Built-In Functions\n",
    "print(len(\"Hello\"))          # Length of a string\n",
    "print(type(42))              # Type of an object\n",
    "print(int(3.14))            # Convert to integer\n",
    "print(float(10))            # Convert to float\n",
    "print(str(100))             # Convert to string\n",
    "print(list((1, 2, 3)))      # Convert to list\n",
    "print(sum([1,2,3]))          # Sum of elements in a list\n",
    "print(max([1,2,3]))          # Maximum value in a list\n",
    "print(min([1,2,3]))          # Minimum value in a list\n",
    "print(sorted([3,1,2]))       # Sorted list\n",
    "print(reversed([1,2,3]))     # Reversed list\n",
    "print(round(3.6))          # Round a float\n",
    "print(abs(-10))             # Absolute value"
   ]
  },
  {
   "cell_type": "code",
   "execution_count": 11,
   "id": "cdd4dbcb",
   "metadata": {},
   "outputs": [
    {
     "name": "stdout",
     "output_type": "stream",
     "text": [
      "10\n",
      "50\n",
      "4\n",
      "False\n",
      "[10, 25, 40, 50]\n"
     ]
    }
   ],
   "source": [
    "#Lists in Python\n",
    "numbers=[10, 20, 30, 40, 50]\n",
    "print(numbers[0])        # Access first element\n",
    "print(numbers[-1])       # Access last element\n",
    "numbers[1]=25          # Modify second element\n",
    "numbers.append(60)      # Add element to end\n",
    "numbers.pop()\n",
    "numbers.remove(30)    # Remove specific element\n",
    "print(len(numbers))     # Length of the list\n",
    "print(20 in numbers)    # Check if element exists\n",
    "print(numbers)\n"
   ]
  },
  {
   "cell_type": "code",
   "execution_count": 13,
   "id": "3b40ebbc",
   "metadata": {},
   "outputs": [
    {
     "name": "stdout",
     "output_type": "stream",
     "text": [
      "[20, 30, 40]\n",
      "[10, 20, 30]\n",
      "[30, 40, 50]\n",
      "[10, 20, 30, 40, 50]\n",
      "[10, 30, 50]\n"
     ]
    }
   ],
   "source": [
    "#SubLists\n",
    "numbers=[10, 20, 30, 40, 50]\n",
    "sublist=numbers[1:4]   # Slice from index 1 to 3\n",
    "print(sublist)\n",
    "print(numbers[:3])      # Slice from start to index 2\n",
    "print(numbers[2:])      # Slice from index 2 to end\n",
    "print(numbers[:])       # Copy the entire list\n",
    "print(numbers[::2])     # Every second element"
   ]
  },
  {
   "cell_type": "code",
   "execution_count": 14,
   "id": "a2c9d88f",
   "metadata": {},
   "outputs": [
    {
     "name": "stdout",
     "output_type": "stream",
     "text": [
      "apple\n",
      "banana\n",
      "cherry\n",
      "apple\n",
      "banana\n",
      "cherry\n"
     ]
    }
   ],
   "source": [
    "#Loops\n",
    "#for loop\n",
    "fruits=[\"apple\",\"banana\",\"cherry\"]\n",
    "for fruit in fruits:\n",
    "    print(fruit)\n",
    "#while loop\n",
    "i=0\n",
    "while i<3:\n",
    "    print(fruits[i])\n",
    "    i+=1"
   ]
  },
  {
   "cell_type": "code",
   "execution_count": 15,
   "id": "ef3a9a1b",
   "metadata": {},
   "outputs": [
    {
     "name": "stdout",
     "output_type": "stream",
     "text": [
      "0 apple\n",
      "1 banana\n",
      "2 cherry\n"
     ]
    }
   ],
   "source": [
    "#enumerate() Function\n",
    "fruits=[\"apple\",\"banana\",\"cherry\"]\n",
    "for index,fruit in enumerate(fruits):\n",
    "    print(index,fruit)"
   ]
  },
  {
   "cell_type": "code",
   "execution_count": 16,
   "id": "c4dfac70",
   "metadata": {},
   "outputs": [
    {
     "name": "stdout",
     "output_type": "stream",
     "text": [
      "0 apple\n",
      "1 banana\n",
      "2 cherry\n"
     ]
    }
   ],
   "source": [
    "#enumerate\n",
    "\n",
    "for index,fruit in enumerate(fruits):\n",
    "    print(index,fruit)"
   ]
  },
  {
   "cell_type": "code",
   "execution_count": 17,
   "id": "3da2a088",
   "metadata": {},
   "outputs": [
    {
     "name": "stdout",
     "output_type": "stream",
     "text": [
      "x is between 10 and 19\n"
     ]
    }
   ],
   "source": [
    "#conditions\n",
    "x=15\n",
    "if x<10:\n",
    "    print(\"x is less than 10\")\n",
    "elif x<20:\n",
    "    print(\"x is between 10 and 19\")\n",
    "else:\n",
    "    print(\"x is 20 or more\")"
   ]
  },
  {
   "cell_type": "code",
   "execution_count": 23,
   "id": "21e6a97d",
   "metadata": {},
   "outputs": [],
   "source": [
    "#List Comprehensions\n",
    "numbers=[1,2,3,4,5]\n",
    "squares=[x**2 for x in numbers]\n",
    "#Even Numbers\n",
    "evens=[x for x in numbers if x%2==0]"
   ]
  },
  {
   "cell_type": "code",
   "execution_count": 24,
   "id": "0758356d",
   "metadata": {},
   "outputs": [
    {
     "name": "stdout",
     "output_type": "stream",
     "text": [
      "value1\n",
      "{'key1': 'value1', 'key3': 'value3'}\n",
      "Alice\n",
      "{'name': 'Alice', 'age': 25}\n",
      "Unknown\n",
      "{'name': 'Alice'}\n"
     ]
    }
   ],
   "source": [
    "#Dictionaries\n",
    "d={\"key1\":\"value1\",\"key2\":\"value2\"}\n",
    "print(d[\"key1\"] )           \n",
    "d[\"key3\"]=\"value3\"\n",
    "#delete a key\n",
    "del d[\"key2\"]\n",
    "print(d)\n",
    "\n",
    "students={\"name\":\"Alice\",\"age\":24}\n",
    "print(students[\"name\"])\n",
    "students[\"age\"]=25  \n",
    "print(students)\n",
    "#Access a key safely using get()\n",
    "print(students.get(\"city\",\"Unknown\"))\n",
    "#Remove a key-value pair\n",
    "students.pop(\"age\",None)\n",
    "print(students)"
   ]
  },
  {
   "cell_type": "code",
   "execution_count": 25,
   "id": "6c018c9b",
   "metadata": {},
   "outputs": [
    {
     "name": "stdout",
     "output_type": "stream",
     "text": [
      "name Alice\n",
      "age 24\n"
     ]
    }
   ],
   "source": [
    "students={\"name\":\"Alice\",\"age\":24}\n",
    "#Loop over key-value pairs\n",
    "for key,value in students.items():\n",
    "    print(key,value)"
   ]
  },
  {
   "cell_type": "code",
   "execution_count": 26,
   "id": "2f0e8ee0",
   "metadata": {},
   "outputs": [
    {
     "name": "stdout",
     "output_type": "stream",
     "text": [
      "{2: 4, 4: 16}\n"
     ]
    }
   ],
   "source": [
    "#Dictionary Comprehensions\n",
    "numbers=[1,2,3,4,5]\n",
    "even_squares={x:x**2 for x in numbers if x%2==0}\n",
    "print(even_squares)"
   ]
  },
  {
   "cell_type": "code",
   "execution_count": 28,
   "id": "fa33cab7",
   "metadata": {},
   "outputs": [
    {
     "name": "stdout",
     "output_type": "stream",
     "text": [
      "{'cherry', 'apple', 'banana'}\n",
      "{'cherry', 'apple', 'banana', 'Watermelon'}\n",
      "{'cherry', 'apple', 'Watermelon'}\n",
      "False\n",
      "{'cherry', 'apple', 'Watermelon'}\n"
     ]
    }
   ],
   "source": [
    "#Sets\n",
    "fruits={\"apple\",\"banana\",\"cherry\",\"apple\"}  # Duplicates are ignored\n",
    "print(fruits)\n",
    "fruits.add(\"Watermelon\" )\n",
    "print(fruits)\n",
    "fruits.remove(\"banana\")\n",
    "print(fruits)\n",
    "print(\"banana\" in fruits)  # Check membership\n",
    "#discard does not raise error if element not found\n",
    "fruits.discard(\"banana\")\n",
    "print(fruits)"
   ]
  },
  {
   "cell_type": "code",
   "execution_count": 29,
   "id": "e1b1411b",
   "metadata": {},
   "outputs": [
    {
     "name": "stdout",
     "output_type": "stream",
     "text": [
      "cherry\n",
      "apple\n",
      "Watermelon\n"
     ]
    }
   ],
   "source": [
    "#Loop over a set\n",
    "for fruit in fruits:\n",
    "    print(fruit)"
   ]
  },
  {
   "cell_type": "code",
   "execution_count": 30,
   "id": "3ed918cc",
   "metadata": {},
   "outputs": [
    {
     "name": "stdout",
     "output_type": "stream",
     "text": [
      "{1, 2, 3, 4, 5}\n"
     ]
    }
   ],
   "source": [
    "#convert list to set\n",
    "numbers=[1,2,2,3,4,4,5]\n",
    "unique_numbers=set(numbers)\n",
    "print(unique_numbers)"
   ]
  },
  {
   "cell_type": "code",
   "execution_count": 31,
   "id": "84dab54b",
   "metadata": {},
   "outputs": [
    {
     "name": "stdout",
     "output_type": "stream",
     "text": [
      "{1, 4, 9, 16, 25}\n"
     ]
    }
   ],
   "source": [
    "#Set Comprehension\n",
    "set={1,2,3,4,5}\n",
    "squares={x**2 for x in set}\n",
    "print(squares)"
   ]
  },
  {
   "cell_type": "code",
   "execution_count": null,
   "id": "fbcb2171",
   "metadata": {},
   "outputs": [
    {
     "name": "stdout",
     "output_type": "stream",
     "text": [
      "1\n",
      "5\n",
      "5\n",
      "(1, 2, 3, 4, 5)\n"
     ]
    },
    {
     "ename": "AttributeError",
     "evalue": "'tuple' object has no attribute 'pop'",
     "output_type": "error",
     "traceback": [
      "\u001b[1;31m---------------------------------------------------------------------------\u001b[0m",
      "\u001b[1;31mAttributeError\u001b[0m                            Traceback (most recent call last)",
      "Cell \u001b[1;32mIn[33], line 8\u001b[0m\n\u001b[0;32m      6\u001b[0m \u001b[38;5;28mprint\u001b[39m(\u001b[38;5;28mlen\u001b[39m(numbers))     \u001b[38;5;66;03m# Length of the tuple\u001b[39;00m\n\u001b[0;32m      7\u001b[0m \u001b[38;5;28mprint\u001b[39m(numbers)\n\u001b[1;32m----> 8\u001b[0m \u001b[43mnumbers\u001b[49m\u001b[38;5;241;43m.\u001b[39;49m\u001b[43mpop\u001b[49m()\n",
      "\u001b[1;31mAttributeError\u001b[0m: 'tuple' object has no attribute 'pop'"
     ]
    }
   ],
   "source": [
    "#Tuples\n",
    "numbers=(1,2,3,4,5)\n",
    "print(numbers[0])        # Access first element\n",
    "print(numbers[-1])       # Access last element\n",
    "#numbers[1]=20          # Tuples are immutable\n",
    "print(len(numbers))     # Length of the tuple\n",
    "print(numbers)"
   ]
  },
  {
   "cell_type": "code",
   "execution_count": null,
   "id": "f4305dcd",
   "metadata": {},
   "outputs": [],
   "source": []
  }
 ],
 "metadata": {
  "kernelspec": {
   "display_name": "Python 3",
   "language": "python",
   "name": "python3"
  },
  "language_info": {
   "codemirror_mode": {
    "name": "ipython",
    "version": 3
   },
   "file_extension": ".py",
   "mimetype": "text/x-python",
   "name": "python",
   "nbconvert_exporter": "python",
   "pygments_lexer": "ipython3",
   "version": "3.12.3"
  }
 },
 "nbformat": 4,
 "nbformat_minor": 5
}
