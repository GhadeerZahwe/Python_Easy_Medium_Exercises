{
 "cells": [
  {
   "cell_type": "code",
   "execution_count": null,
   "id": "941c2b4a",
   "metadata": {},
   "outputs": [],
   "source": [
    "# Python Basic Data Types\n",
    "x=10\n",
    "y=3.14\n",
    "name=\"Alice\"\n",
    "is_active=True\n",
    "z=None\n"
   ]
  },
  {
   "cell_type": "code",
   "execution_count": 2,
   "id": "21b22a1e",
   "metadata": {},
   "outputs": [],
   "source": [
    "# Common Collections (Built-In Data Structure)\n",
    "List=[1,2,3]\n",
    "Tuple=(1,2,3)\n",
    "Set={1,2,3}\n",
    "Dictionary={\"key1\":\"value1\",\"key2\":\"value2\"}"
   ]
  },
  {
   "cell_type": "code",
   "execution_count": 3,
   "id": "73dbdadc",
   "metadata": {},
   "outputs": [
    {
     "name": "stdout",
     "output_type": "stream",
     "text": [
      "8\n",
      "2\n",
      "15\n",
      "1.6666666666666667\n",
      "1\n",
      "2\n",
      "125\n"
     ]
    }
   ],
   "source": [
    "# Python Mathematical Operations\n",
    "print(5+3)        # Addition\n",
    "print(5-3)        # Subtraction\n",
    "print(5*3)        # Multiplication\n",
    "print(5/3)        # Division\n",
    "print(5//3)       # Floor Division\n",
    "print(5%3)       # Modulus\n",
    "print(5**3)      # Exponentiation\n"
   ]
  },
  {
   "cell_type": "code",
   "execution_count": 4,
   "id": "78cda0da",
   "metadata": {},
   "outputs": [
    {
     "name": "stdout",
     "output_type": "stream",
     "text": [
      "False\n",
      "True\n",
      "False\n"
     ]
    }
   ],
   "source": [
    "#Boolean Operations\n",
    "t=True\n",
    "f=False\n",
    "print(t and f)  # Logical AND\n",
    "print(t or f)   # Logical OR\n",
    "print(not t)    # Logical NOT"
   ]
  },
  {
   "cell_type": "code",
   "execution_count": 6,
   "id": "16d0985a",
   "metadata": {},
   "outputs": [
    {
     "name": "stdout",
     "output_type": "stream",
     "text": [
      "5\n",
      "<class 'int'>\n",
      "3\n",
      "10.0\n",
      "100\n",
      "[1, 2, 3]\n",
      "6\n",
      "3\n",
      "1\n",
      "[1, 2, 3]\n",
      "<list_reverseiterator object at 0x00000200AB9A45B0>\n",
      "4\n",
      "10\n"
     ]
    }
   ],
   "source": [
    "#Common Built-In Functions\n",
    "print(len(\"Hello\"))          # Length of a string\n",
    "print(type(42))              # Type of an object\n",
    "print(int(3.14))            # Convert to integer\n",
    "print(float(10))            # Convert to float\n",
    "print(str(100))             # Convert to string\n",
    "print(list((1, 2, 3)))      # Convert to list\n",
    "print(sum([1,2,3]))          # Sum of elements in a list\n",
    "print(max([1,2,3]))          # Maximum value in a list\n",
    "print(min([1,2,3]))          # Minimum value in a list\n",
    "print(sorted([3,1,2]))       # Sorted list\n",
    "print(reversed([1,2,3]))     # Reversed list\n",
    "print(round(3.6))          # Round a float\n",
    "print(abs(-10))             # Absolute value"
   ]
  },
  {
   "cell_type": "code",
   "execution_count": 11,
   "id": "cdd4dbcb",
   "metadata": {},
   "outputs": [
    {
     "name": "stdout",
     "output_type": "stream",
     "text": [
      "10\n",
      "50\n",
      "4\n",
      "False\n",
      "[10, 25, 40, 50]\n"
     ]
    }
   ],
   "source": [
    "#Lists in Python\n",
    "numbers=[10, 20, 30, 40, 50]\n",
    "print(numbers[0])        # Access first element\n",
    "print(numbers[-1])       # Access last element\n",
    "numbers[1]=25          # Modify second element\n",
    "numbers.append(60)      # Add element to end\n",
    "numbers.pop()\n",
    "numbers.remove(30)    # Remove specific element\n",
    "print(len(numbers))     # Length of the list\n",
    "print(20 in numbers)    # Check if element exists\n",
    "print(numbers)\n"
   ]
  },
  {
   "cell_type": "code",
   "execution_count": 13,
   "id": "3b40ebbc",
   "metadata": {},
   "outputs": [
    {
     "name": "stdout",
     "output_type": "stream",
     "text": [
      "[20, 30, 40]\n",
      "[10, 20, 30]\n",
      "[30, 40, 50]\n",
      "[10, 20, 30, 40, 50]\n",
      "[10, 30, 50]\n"
     ]
    }
   ],
   "source": [
    "#SubLists\n",
    "numbers=[10, 20, 30, 40, 50]\n",
    "sublist=numbers[1:4]   # Slice from index 1 to 3\n",
    "print(sublist)\n",
    "print(numbers[:3])      # Slice from start to index 2\n",
    "print(numbers[2:])      # Slice from index 2 to end\n",
    "print(numbers[:])       # Copy the entire list\n",
    "print(numbers[::2])     # Every second element"
   ]
  },
  {
   "cell_type": "code",
   "execution_count": 14,
   "id": "a2c9d88f",
   "metadata": {},
   "outputs": [
    {
     "name": "stdout",
     "output_type": "stream",
     "text": [
      "apple\n",
      "banana\n",
      "cherry\n",
      "apple\n",
      "banana\n",
      "cherry\n"
     ]
    }
   ],
   "source": [
    "#Loops\n",
    "#for loop\n",
    "fruits=[\"apple\",\"banana\",\"cherry\"]\n",
    "for fruit in fruits:\n",
    "    print(fruit)\n",
    "#while loop\n",
    "i=0\n",
    "while i<3:\n",
    "    print(fruits[i])\n",
    "    i+=1"
   ]
  },
  {
   "cell_type": "code",
   "execution_count": 15,
   "id": "ef3a9a1b",
   "metadata": {},
   "outputs": [
    {
     "name": "stdout",
     "output_type": "stream",
     "text": [
      "0 apple\n",
      "1 banana\n",
      "2 cherry\n"
     ]
    }
   ],
   "source": [
    "#enumerate() Function\n",
    "fruits=[\"apple\",\"banana\",\"cherry\"]\n",
    "for index,fruit in enumerate(fruits):\n",
    "    print(index,fruit)"
   ]
  },
  {
   "cell_type": "code",
   "execution_count": 16,
   "id": "c4dfac70",
   "metadata": {},
   "outputs": [
    {
     "name": "stdout",
     "output_type": "stream",
     "text": [
      "0 apple\n",
      "1 banana\n",
      "2 cherry\n"
     ]
    }
   ],
   "source": [
    "#enumerate\n",
    "\n",
    "for index,fruit in enumerate(fruits):\n",
    "    print(index,fruit)"
   ]
  },
  {
   "cell_type": "code",
   "execution_count": 17,
   "id": "3da2a088",
   "metadata": {},
   "outputs": [
    {
     "name": "stdout",
     "output_type": "stream",
     "text": [
      "x is between 10 and 19\n"
     ]
    }
   ],
   "source": [
    "#conditions\n",
    "x=15\n",
    "if x<10:\n",
    "    print(\"x is less than 10\")\n",
    "elif x<20:\n",
    "    print(\"x is between 10 and 19\")\n",
    "else:\n",
    "    print(\"x is 20 or more\")"
   ]
  },
  {
   "cell_type": "code",
   "execution_count": 19,
   "id": "21e6a97d",
   "metadata": {},
   "outputs": [],
   "source": [
    "#List Comprehensions\n",
    "numbers=[1,2,3,4,5]\n",
    "squares=[x**2 for x in numbers]\n",
    "#Even Numbers\n",
    "evens=[x for x in numbers if x%2==0]"
   ]
  },
  {
   "cell_type": "code",
   "execution_count": null,
   "id": "0758356d",
   "metadata": {},
   "outputs": [],
   "source": [
    "#Dictionaries\n",
    "d={\"key1\":\"value1\",\"key2\":\"value2\"}\n",
    "print(d[\"key1\"] )           \n",
    "d[\"key3\"]=\"value3\"\n",
    "#delete a key\n",
    "del d[\"key2\"]\n",
    "print(d)\n",
    "\n",
    "students={\"name\":\"Alice\",\"age\":24}\n",
    "print(students[\"name\"])\n",
    "students[\"age\"]=25  \n",
    "print(students)\n",
    "#Access a key safely using get()\n",
    "print(students.get(\"city\",\"Unknown\"))\n",
    "#Remove a key-value pair\n",
    "students.pop(\"age\",None)"
   ]
  }
 ],
 "metadata": {
  "kernelspec": {
   "display_name": "Python 3",
   "language": "python",
   "name": "python3"
  },
  "language_info": {
   "codemirror_mode": {
    "name": "ipython",
    "version": 3
   },
   "file_extension": ".py",
   "mimetype": "text/x-python",
   "name": "python",
   "nbconvert_exporter": "python",
   "pygments_lexer": "ipython3",
   "version": "3.12.3"
  }
 },
 "nbformat": 4,
 "nbformat_minor": 5
}
