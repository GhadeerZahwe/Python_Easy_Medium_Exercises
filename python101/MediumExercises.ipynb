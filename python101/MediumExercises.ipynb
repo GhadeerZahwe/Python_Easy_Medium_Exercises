{
 "cells": [
  {
   "cell_type": "markdown",
   "id": "61c83c1d",
   "metadata": {},
   "source": [
    "Exercise 1\n",
    "\n",
    "Write a Python program to find three numbers from an array such that the sum of three numbers equal to zero. \n",
    "\n",
    "Input : [-1,0,1,2,-1,-4] \n",
    "\n",
    "Output : [[-1, -1, 2], [-1, 0, 1]] \n",
    "\n",
    "Note : Find the unique triplets in the array."
   ]
  },
  {
   "cell_type": "code",
   "execution_count": 11,
   "id": "d4b45755",
   "metadata": {},
   "outputs": [
    {
     "name": "stdout",
     "output_type": "stream",
     "text": [
      "[[-1, 0, 1], [-1, -1, 2]]\n"
     ]
    }
   ],
   "source": [
    "arr = [-1, 0, 1, 2, -1, -4]\n",
    "result = []\n",
    "\n",
    "for i in range(len(arr)):\n",
    "    first = arr[i]\n",
    "    for j in range(i + 1, len(arr)):\n",
    "        second = arr[j]\n",
    "        for k in range(j + 1, len(arr)):\n",
    "            third = arr[k]\n",
    "            if first + second + third == 0:\n",
    "                triplet = sorted([first, second, third])\n",
    "                if triplet not in result:\n",
    "                    result.append(triplet)\n",
    "\n",
    "print(result)\n"
   ]
  },
  {
   "cell_type": "markdown",
   "id": "7447a789",
   "metadata": {},
   "source": [
    "Exrecise 2\n",
    "\n",
    "Build a simple text analyzer. \n",
    "\n",
    "Problem: Write a function count_words(text) that:\n",
    "\n",
    "1. Accepts a paragraph of text\n",
    "\n",
    "2. Returns a dictionary where keys are words and values are how many times they appeared (case-insensitive)\n",
    "\n",
    "Example input:  \n",
    "\n",
    "text = \"AI is the future. The future is now.\"\n",
    "\n",
    "Expected Output: {'ai': 1, 'is': 2, 'the': 2, 'future': 2, 'now.': 1}"
   ]
  },
  {
   "cell_type": "code",
   "execution_count": 14,
   "id": "b0a932dd",
   "metadata": {},
   "outputs": [
    {
     "name": "stdout",
     "output_type": "stream",
     "text": [
      "{'ai': 1, 'is': 2, 'the': 2, 'future': 2, 'now': 1}\n"
     ]
    }
   ],
   "source": [
    "text=input(\"Enter a paragraph of text: \")\n",
    "def count_words(text):\n",
    "    words = text.lower().split()\n",
    "    word_count = {}\n",
    "    for word in words:\n",
    "        word = word.strip('.,!?;\"\\'()[]{}')  \n",
    "        if word in word_count:\n",
    "            word_count[word] += 1\n",
    "        else:\n",
    "            word_count[word] = 1\n",
    "    return word_count\n",
    "\n",
    "print(count_words(text))"
   ]
  },
  {
   "cell_type": "markdown",
   "id": "0a7c8f83",
   "metadata": {},
   "source": [
    "Exercise 3\n",
    "\n",
    "Practice object-oriented programming, attributes, and methods. \n",
    "\n",
    "Build a basic system to manage books in a library.\n",
    "\n",
    "🧠 Requirements:\n",
    "\n",
    "1.Create a Book class with:\n",
    "\n",
    "Attributes: title, author, year, is_checked_out (default = False)\n",
    "\n",
    "Method: checkout() → sets is_checked_out = True\n",
    "\n",
    "Method: return_book() → sets is_checked_out = False\n",
    "\n",
    "Method: str() → returns a string like: \"1984 by George Orwell (Checked out: False)\"\n",
    "\n",
    "2.Create a Library class with:\n",
    "\n",
    "Attribute: a list called collection to store books\n",
    "\n",
    "Method: add_book(book) → adds to collection\n",
    "\n",
    "Method: list_books() → prints all book titles and status\n",
    "\n",
    "Method: find_book(title) → returns a matching book (case-insensitive)\n",
    "\n",
    "Example Usage\n",
    "\n",
    "b1 = Book(\"1984\", \"George Orwell\", 1949)\n",
    "\n",
    "b2 = Book(\"The Alchemist\", \"Paulo Coelho\", 1988)\n",
    "\n",
    "lib = Library()\n",
    "\n",
    "lib.add_book(b1)\n",
    "\n",
    "lib.add_book(b2)\n",
    "\n",
    "lib.list_books()\n",
    "\n",
    "b1.checkout()\n",
    "\n",
    "lib.list_books()\n",
    "\n",
    "found = lib.find_book(\"1984\")\n",
    "\n",
    "print(found)"
   ]
  },
  {
   "cell_type": "code",
   "execution_count": 18,
   "id": "41ef0682",
   "metadata": {},
   "outputs": [
    {
     "name": "stdout",
     "output_type": "stream",
     "text": [
      "1984 by George Orwell 1949 (checked out: False)\n",
      "The Alchemist by Paulo Coelho 1988 (checked out: False)\n",
      "1984 by George Orwell 1949 (checked out: True)\n",
      "The Alchemist by Paulo Coelho 1988 (checked out: False)\n",
      "1984 by George Orwell 1949 (checked out: True)\n"
     ]
    }
   ],
   "source": [
    "class Book:\n",
    "    def __init__(self, title, author, year):\n",
    "        self.title=title\n",
    "        self.author=author\n",
    "        self.year=year\n",
    "        self.is_checked_out=False\n",
    "\n",
    "    def checkout(self):\n",
    "        self.is_checked_out=True\n",
    "\n",
    "    def return_book(self):\n",
    "        self.is_checked_out=False\n",
    "\n",
    "    def __str__(self):\n",
    "        return f\"{self.title} by {self.author} {self.year} (checked out: {self.is_checked_out})\"\n",
    "    \n",
    "class Library:\n",
    "    def __init__(self):\n",
    "            self.collection=[]\n",
    "\n",
    "    def add_book(self,book):\n",
    "            self.collection.append(book)\n",
    "\n",
    "    def list_books(self):\n",
    "        if not self.collection:\n",
    "            print(\"No books in the library.\")\n",
    "        else:\n",
    "            for book in self.collection:\n",
    "                print(book)\n",
    "            \n",
    "    def find_book(self,title):\n",
    "        for book in self.collection:\n",
    "            if book.title==title:\n",
    "                return book\n",
    "            \n",
    "\n",
    "b1 = Book(\"1984\", \"George Orwell\", 1949)\n",
    "b2 = Book(\"The Alchemist\", \"Paulo Coelho\", 1988)\n",
    "\n",
    "lib = Library()\n",
    "lib.add_book(b1)\n",
    "lib.add_book(b2)\n",
    "\n",
    "lib.list_books()\n",
    "\n",
    "b1.checkout()\n",
    "lib.list_books()\n",
    "\n",
    "found = lib.find_book(\"1984\")\n",
    "print(found)"
   ]
  }
 ],
 "metadata": {
  "kernelspec": {
   "display_name": "Python 3",
   "language": "python",
   "name": "python3"
  },
  "language_info": {
   "codemirror_mode": {
    "name": "ipython",
    "version": 3
   },
   "file_extension": ".py",
   "mimetype": "text/x-python",
   "name": "python",
   "nbconvert_exporter": "python",
   "pygments_lexer": "ipython3",
   "version": "3.12.3"
  }
 },
 "nbformat": 4,
 "nbformat_minor": 5
}
